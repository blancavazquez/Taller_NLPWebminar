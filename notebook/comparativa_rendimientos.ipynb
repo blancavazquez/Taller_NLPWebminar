{
  "nbformat": 4,
  "nbformat_minor": 0,
  "metadata": {
    "colab": {
      "name": "comparativa_rendimientos.ipynb",
      "provenance": [],
      "collapsed_sections": [],
      "authorship_tag": "ABX9TyN730lTw7lVpTSe+DbleHlk",
      "include_colab_link": true
    },
    "kernelspec": {
      "name": "python3",
      "display_name": "Python 3"
    },
    "language_info": {
      "name": "python"
    }
  },
  "cells": [
    {
      "cell_type": "markdown",
      "metadata": {
        "id": "view-in-github",
        "colab_type": "text"
      },
      "source": [
        "<a href=\"https://colab.research.google.com/github/blancavazquez/Taller_NLPWebminar/blob/main/notebook/comparativa_rendimientos.ipynb\" target=\"_parent\"><img src=\"https://colab.research.google.com/assets/colab-badge.svg\" alt=\"Open In Colab\"/></a>"
      ]
    },
    {
      "cell_type": "code",
      "execution_count": 1,
      "metadata": {
        "id": "nHtKuYHoCuj3"
      },
      "outputs": [],
      "source": [
        "import pandas as pd\n",
        "import numpy as np\n",
        "from matplotlib import pyplot as plt"
      ]
    },
    {
      "cell_type": "code",
      "source": [
        "from google.colab import drive\n",
        "drive.mount('/content/drive')"
      ],
      "metadata": {
        "colab": {
          "base_uri": "https://localhost:8080/"
        },
        "id": "2VBsR4AEC6h4",
        "outputId": "61320cd2-f6b1-40c1-df98-8edc78963ef6"
      },
      "execution_count": 2,
      "outputs": [
        {
          "output_type": "stream",
          "name": "stdout",
          "text": [
            "Drive already mounted at /content/drive; to attempt to forcibly remount, call drive.mount(\"/content/drive\", force_remount=True).\n"
          ]
        }
      ]
    },
    {
      "cell_type": "code",
      "source": [
        "#Carga de métricas\n",
        "\n",
        "path = '/content/drive/MyDrive/Colab Notebooks/Taller_NLPWebminar/metrics/'\n",
        "\n",
        "#RMSE\n",
        "model_rmse_f13_nc0 = pd.read_csv(path+'rmse_f_13_nc_0.txt', sep=\" \")\n",
        "model_rmse_f13_nc2 = pd.read_csv(path+'rmse_f_13_nc_2.txt', sep=\" \")\n",
        "model_rmse_f4_nc0 = pd.read_csv(path+'rmse_f_4_nc_0.txt', sep=\" \")\n",
        "model_rmse_f4_nc2 = pd.read_csv(path+'rmse_f_4_nc_2.txt', sep=\" \")\n",
        "\n",
        "#R2\n",
        "model_r2_f13_nc0 = pd.read_csv(path+'r2_f_13_nc_0.txt', sep=\" \")\n",
        "model_r2_f13_nc2 = pd.read_csv(path+'r2_f_13_nc_2.txt', sep=\" \")\n",
        "model_r2_f4_nc0 = pd.read_csv(path+'r2_f_4_nc_0.txt', sep=\" \")\n",
        "model_r2_f4_nc2 = pd.read_csv(path+'r2_f_4_nc_2.txt', sep=\" \")"
      ],
      "metadata": {
        "id": "lXS-pIKEDErb"
      },
      "execution_count": 3,
      "outputs": []
    },
    {
      "cell_type": "code",
      "source": [
        "#RMSE obtenidas por los modelos\n",
        "data_rmse = pd.DataFrame({'13_vars_nc0':model_rmse_f13_nc0.to_numpy().flatten(),\n",
        "\t\t\t\t\t '13_vars_nc2':model_rmse_f13_nc2.to_numpy().flatten(),\n",
        "           '4_vars_nc0':model_rmse_f4_nc0.to_numpy().flatten(),\n",
        "           '4_vars_nc2':model_rmse_f4_nc2.to_numpy().flatten(),\n",
        "           })\n",
        "\n",
        "data_r2 = pd.DataFrame({'13_vars_nc0':model_r2_f13_nc0.to_numpy().flatten(),\n",
        "\t\t\t\t\t '13_vars_nc2':model_r2_f13_nc2.to_numpy().flatten(),\n",
        "           '4_vars_nc0':model_r2_f4_nc0.to_numpy().flatten(),\n",
        "           '4_vars_nc2':model_r2_f4_nc2.to_numpy().flatten(),\n",
        "           })"
      ],
      "metadata": {
        "id": "8UiPseKBDdDq"
      },
      "execution_count": 4,
      "outputs": []
    },
    {
      "cell_type": "code",
      "source": [
        "print(\"Rendimiento de los modelos sobre el conjunto de validación (RMSE) \")\n",
        "boxplot = data_rmse.boxplot(column=['13_vars_nc0','13_vars_nc2','4_vars_nc0','4_vars_nc2']) "
      ],
      "metadata": {
        "colab": {
          "base_uri": "https://localhost:8080/",
          "height": 283
        },
        "id": "n1cMExqPGEQg",
        "outputId": "582953f9-00b1-4d9d-b8eb-cde73e777c44"
      },
      "execution_count": 7,
      "outputs": [
        {
          "output_type": "stream",
          "name": "stdout",
          "text": [
            "Rendimiento de los modelos sobre el conjunto de validación (RMSE) \n"
          ]
        },
        {
          "output_type": "display_data",
          "data": {
            "text/plain": [
              "<Figure size 432x288 with 1 Axes>"
            ],
            "image/png": "[encoded data removed]"
          },
          "metadata": {
            "needs_background": "light"
          }
        }
      ]
    },
    {
      "cell_type": "markdown",
      "source": [
        "En esta gráfica se observa que los rendimientos más bajos para la métrica de RMSE fueron con el modelo entrado con 13 variables, en lugar de 4 variables."
      ],
      "metadata": {
        "id": "c3QwrFuL-Jb2"
      }
    },
    {
      "cell_type": "code",
      "source": [
        "print(\"Rendimiento de los modelos sobre el conjunto de validación (R2) \")\n",
        "boxplot = data_r2.boxplot(column=['13_vars_nc0','13_vars_nc2','4_vars_nc0','4_vars_nc2'])"
      ],
      "metadata": {
        "colab": {
          "base_uri": "https://localhost:8080/",
          "height": 283
        },
        "id": "Z3KBSkEHHBhW",
        "outputId": "ef276eb9-a5cb-4fe4-f511-5616b162a801"
      },
      "execution_count": 8,
      "outputs": [
        {
          "output_type": "stream",
          "name": "stdout",
          "text": [
            "Rendimiento de los modelos sobre el conjunto de validación (R2) \n"
          ]
        },
        {
          "output_type": "display_data",
          "data": {
            "text/plain": [
              "<Figure size 432x288 with 1 Axes>"
            ],
            "image/png": "[encoded data removed]"
          },
          "metadata": {
            "needs_background": "light"
          }
        }
      ]
    },
    {
      "cell_type": "markdown",
      "source": [
        "En esta gráfica se puede observar que añadir las variables se sexo y edad para condicionar la red mejoran la métrica de R2. Por un lado, para el modelo entrenado con 13 variables sin condicionamiento se observan valores de R2 negativos, mientras que el modelo entrenado con las 2 condiciones se mejora el rendimiento de R2 hacia valores positivos. En el caso del modelo entrenado con 4 variables, el peor rendimiento se obtiene cuando la red no es condicionada. Se observa que el modelo entrenado con 4 variables y 2 condiciones obtiene un  mejor rendimiento que cuando no es condicionado, aunque se muestran valores de R2 negados.\n",
        "\n",
        "En resumen, de todos los modelos entrenados, el modelo con el mejor rendimiento fue el que se entró con 13 variables clínicas y fue condicionado con las variables demográficas de sexo y edad."
      ],
      "metadata": {
        "id": "ffkgWuw_-k0n"
      }
    }
  ]
}