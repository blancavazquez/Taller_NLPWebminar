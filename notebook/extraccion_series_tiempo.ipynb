{
  "cells": [
    {
      "cell_type": "markdown",
      "metadata": {
        "id": "view-in-github",
        "colab_type": "text"
      },
      "source": [
        "<a href=\"https://colab.research.google.com/github/blancavazquez/Taller_NLPWebminar/blob/main/notebook/extraccion_series_tiempo.ipynb\" target=\"_parent\"><img src=\"https://colab.research.google.com/assets/colab-badge.svg\" alt=\"Open In Colab\"/></a>"
      ]
    },
    {
      "cell_type": "markdown",
      "metadata": {
        "id": "u-feeICJnq8o"
      },
      "source": [
        "# Taller: Hacia la simulación de la evolución clínica del paciente\n",
        "## Blanca Hilda Vázquez Gómez"
      ]
    },
    {
      "cell_type": "markdown",
      "metadata": {
        "id": "Xr8wbZLJnq8p"
      },
      "source": [
        "**Objetivo:** Implementar un modelo que permita predecir de manera temprana la evolución clínica del paciente a partir del procesamiento de series de tiempo multivariadas.\n",
        "\n",
        "**¿Por qué desarrollar modelos para predecir el comportamiento clínico?**\n",
        "\n",
        "- La detección temprana del deterioro del paciente puede contribuir en reducir tiempos de espera en la administración de tratamientos\n",
        "\n"
      ]
    },
    {
      "cell_type": "markdown",
      "metadata": {
        "id": "t-DnYXqNnq8q"
      },
      "source": [
        "**Descripción de la base de datos**\n",
        "\n",
        "La base de datos de EHR que son usados en esta libreta fueron extraídos del sitio [The PhysioNet/Computing in Cardiology Challenge 2012](https://physionet.org/content/challenge-2012/1.0.0/). Las siguientes características generales de esta base de datos se describe a continuación:\n",
        "\n",
        "- Cuenta con 12,000 registros de admisiones.\n",
        "- Las admisiones corresponden a las unidades de cuidados intensivos: cardíacas, médicas, quirúrgicas y traumatológicas.\n",
        "- Se registraron 42* variables clínicas durante las primeras 48 horas de admisión a la ICU.\n",
        "- De las 42 variables, 6 son descriptores y fueron recolectados al momento de la admisión, las variables restantes son series de tiempo.\n"
      ]
    },
    {
      "cell_type": "markdown",
      "source": [
        "### Extracción y lectura de los EHR"
      ],
      "metadata": {
        "id": "-DjfsYwbv6ej"
      }
    },
    {
      "cell_type": "code",
      "source": [
        "#Carga de bibliotecas\n",
        "import os\n",
        "import csv\n",
        "import numpy as np\n",
        "import pandas as pd\n",
        "import seaborn as sns\n",
        "import matplotlib.pyplot as plt\n",
        "from collections import defaultdict"
      ],
      "metadata": {
        "id": "Jwz_7n8TwCFA"
      },
      "execution_count": null,
      "outputs": []
    },
    {
      "cell_type": "code",
      "execution_count": null,
      "metadata": {
        "colab": {
          "base_uri": "https://localhost:8080/"
        },
        "id": "Bf-ile3copIC",
        "outputId": "8067d50a-7d6f-42f7-a7b4-9c20d0c4fdcc"
      },
      "outputs": [
        {
          "output_type": "stream",
          "name": "stdout",
          "text": [
            "fatal: destination path 'DAMA_EHR19' already exists and is not an empty directory.\n"
          ]
        }
      ],
      "source": [
        "#Extraer los datos a Colab\n",
        "!git clone https://github.com/blancavazquez/DAMA_EHR19.git"
      ]
    },
    {
      "cell_type": "code",
      "execution_count": null,
      "metadata": {
        "colab": {
          "base_uri": "https://localhost:8080/"
        },
        "id": "IdhRMSLWnq8s",
        "outputId": "9fb35830-237f-4bb5-ffb6-a92942da3ca7"
      },
      "outputs": [
        {
          "output_type": "stream",
          "name": "stdout",
          "text": [
            "   RecordID  SAPS-I  SOFA  Length_of_stay  Survival  In-hospital_death\n",
            "0    132539       6     1               5        -1                  0\n",
            "1    132540      16     8               8        -1                  0\n",
            "2    132541      21    11              19        -1                  0\n",
            "3    132543       7     1               9       575                  0\n",
            "4    132545      17     2               4       918                  0\n"
          ]
        }
      ],
      "source": [
        "# Carga de los datos\n",
        "filepath_patients = '/content/DAMA_EHR19/data/set-a_b' #datos\n",
        "filepath_outcomes = '/content/DAMA_EHR19/data/Outcomes-a_b.csv' # labels\n",
        "\n",
        "def read_data(filepath):\n",
        "    \"\"\" Función para visualizar el contenido de la base de datos\"\"\"\n",
        "    data = pd.read_csv(filepath)\n",
        "    return data\n",
        "\n",
        "#Visualizando el archivo 'Outcomes-a_b.csv'\n",
        "outcomes = read_data(filepath_outcomes)\n",
        "print(outcomes.head()) #return the first 5 rows"
      ]
    },
    {
      "cell_type": "code",
      "execution_count": null,
      "metadata": {
        "colab": {
          "base_uri": "https://localhost:8080/"
        },
        "id": "7bc1gsLVnq8x",
        "outputId": "471745c5-3245-4966-a0be-9502809bbcd1"
      },
      "outputs": [
        {
          "output_type": "stream",
          "name": "stdout",
          "text": [
            "    Time  Parameter      Value\n",
            "0  00:00   RecordID  132539.00\n",
            "1  00:00        Age      54.00\n",
            "2  00:00     Gender       0.00\n",
            "3  00:00     Height      -1.00\n",
            "4  00:00    ICUType       4.00\n",
            "5  00:00     Weight      -1.00\n",
            "6  00:07        GCS      15.00\n",
            "7  00:07         HR      73.00\n",
            "8  00:07  NIDiasABP      65.00\n",
            "9  00:07      NIMAP      92.33\n"
          ]
        }
      ],
      "source": [
        "#Visualizando el archivo de un paciente en específico\n",
        "pat_132539 = read_data('/content/DAMA_EHR19/data/set-a_b/132539.txt')\n",
        "print(pat_132539.head(10))#regresa las primeras 10 filas"
      ]
    },
    {
      "cell_type": "markdown",
      "metadata": {
        "id": "F3CsVtvonq82"
      },
      "source": [
        "## Construcción de diccionarios\n",
        "Vamos a construir unas estructuras de datos (diccionarios) para guardar la información de los pacientes para su posterior procesamiento"
      ]
    },
    {
      "cell_type": "code",
      "execution_count": null,
      "metadata": {
        "id": "6Z_Ary5Fnq83"
      },
      "outputs": [],
      "source": [
        "def dict_outcomes(path_outcomes):\n",
        "    \"\"\" Crea un diccionario para extraer las etiquetas de cada paciente\" \"\"\" \n",
        "    with open(path_outcomes) as file:\n",
        "        input = csv.reader(file)\n",
        "        next(input) # salta la primera fila y se mueve a la siguiente\n",
        "        outcomes = defaultdict(list)\n",
        "        for row in input:\n",
        "            outcomes[row[0]] = row\n",
        "        return outcomes\n",
        "\n",
        "outcomes={}\n",
        "outcomes = dict_outcomes(filepath_outcomes)"
      ]
    },
    {
      "cell_type": "code",
      "execution_count": null,
      "metadata": {
        "id": "ItlbXncgnq86"
      },
      "outputs": [],
      "source": [
        "def read_pat(filepath_patients,icustay):\n",
        "    \"\"\" Crea un diccionario para almacenar los EHR por paciente\"\"\"\n",
        "    data_icu = {}\n",
        "    for icustay_id in icustay.keys():\n",
        "        file = '{}.txt'.format(icustay_id)\n",
        "        f = open(os.path.join(filepath_patients,file))\n",
        "        read_data = csv.reader(f)\n",
        "        next(read_data) #salta la primera fila y se mueve a la siguiente\n",
        "        next(read_data) #salta la fila \"recordID\"\n",
        "        data = defaultdict(list)\n",
        "        for row in read_data:\n",
        "            data[row[1]].append((row[0],row[2]))\n",
        "            data_icu[icustay_id] = data\n",
        "    return data_icu\n",
        "\n",
        "data_icu = read_pat(filepath_patients,outcomes) #salida: 'BUN': [('10:37', '13'), ('33:07', '8')]"
      ]
    },
    {
      "cell_type": "markdown",
      "metadata": {
        "id": "Jz0acDfGnq88"
      },
      "source": [
        "### Análisis de datos\n",
        "A partir de las estructuradas creadas previamente, procedemos a analizar cada variable clínica"
      ]
    },
    {
      "cell_type": "code",
      "execution_count": null,
      "metadata": {
        "id": "AQtRr2NLnq89"
      },
      "outputs": [],
      "source": [
        "vars_estaticas = ['Age', 'Gender', 'Height', 'ICUType']\n",
        "vars_dinamicas = ['Albumin','ALP','ALT','AST','Bilirubin','BUN','Cholesterol',\n",
        "                'Creatinine','DiasABP','FiO2','GCS','Glucose','HCO3',\n",
        "                'HCT','HR','K','Lactate','Mg','MAP','MechVent',\n",
        "                'Na','NIDiasABP','NIMAP','NISysABP','PaCO2',\n",
        "                'PaO2','pH','Platelets','RespRate','SaO2',\n",
        "                'SysABP','Temp','TroponinI','TroponinT','WBC','Weight'] \n",
        "    \n",
        "def analysis_data(data):\n",
        "    \"\"\" Función para extraer los datos de cada variable clínica \"\"\"\n",
        "    features = {} #Creamos un diccionario vacío\n",
        "    values_features = {}\n",
        "    for name in vars_estaticas:\n",
        "        valor = float(data[name][0][1])\n",
        "        if valor < 0: #si en las variables estáticas, el valor no fue registrado, entonces colocamos NAN\n",
        "            features[name] = np.nan\n",
        "        else:\n",
        "            features[name] = float(data[name][0][1])\n",
        "    for name in vars_dinamicas:\n",
        "        if name in data:\n",
        "            values = [float(d[1]) for d in data[name]]\n",
        "            if valor < 0: #si en las variables dinámicas, el valor no fue registrado, entonces colocamos NAN\n",
        "                features[name] = np.nan\n",
        "            else:\n",
        "                values_features[name] = values\n",
        "        features.update(values_features)\n",
        "    return features\n",
        "\n",
        "obtain_features = [] #creación de una lista vacía\n",
        "labels = []\n",
        "ids = []\n",
        "for id, data in data_icu.items(): #retorna una copia del diccionario\n",
        "    features = analysis_data(data) ## Servirá para el analisis de los datos\n",
        "    obtain_features.append(features)\n",
        "    labels.append(outcomes[id][5]) # recuperamos la etiqueta \"In-hospital_death\"\n",
        "    ids.append(id)\n",
        "      \n",
        "#Convertimos el diccionario a dataFrame para poder visualizar la distribución de los datos\n",
        "obtain_features = pd.DataFrame(obtain_features)\n",
        "labels = pd.DataFrame(labels, columns = ['hospital_death'])\n",
        "pd_data = pd.concat([obtain_features, labels], axis = 1, sort = False) #concatenamos variables + label"
      ]
    },
    {
      "cell_type": "code",
      "execution_count": null,
      "metadata": {
        "colab": {
          "base_uri": "https://localhost:8080/",
          "height": 296
        },
        "id": "2A-b8-BzYdbC",
        "outputId": "05b91bb5-de4e-47a6-e95f-d9a754eb09f9"
      },
      "outputs": [
        {
          "output_type": "execute_result",
          "data": {
            "text/plain": [
              "    Age  Gender  Height  ICUType          BUN  Creatinine  \\\n",
              "0  54.0     0.0     NaN      4.0  [13.0, 8.0]  [0.8, 0.7]   \n",
              "\n",
              "                                                 GCS         Glucose  \\\n",
              "0  [15.0, 15.0, 15.0, 15.0, 15.0, 15.0, 15.0, 15....  [205.0, 115.0]   \n",
              "\n",
              "           HCO3                 HCT  ... Albumin  ALP  ALT  AST Bilirubin  \\\n",
              "0  [26.0, 28.0]  [33.7, 33.5, 30.3]  ...     NaN  NaN  NaN  NaN       NaN   \n",
              "\n",
              "  Lactate Cholesterol TroponinI TroponinT hospital_death  \n",
              "0     NaN         NaN       NaN       NaN              0  \n",
              "\n",
              "[1 rows x 41 columns]"
            ],
            "text/html": [
              "\n",
              "  <div id=\"df-f837ff6e-4833-4416-8a63-4e76c59982e0\">\n",
              "    <div class=\"colab-df-container\">\n",
              "      <div>\n",
              "<style scoped>\n",
              "    .dataframe tbody tr th:only-of-type {\n",
              "        vertical-align: middle;\n",
              "    }\n",
              "\n",
              "    .dataframe tbody tr th {\n",
              "        vertical-align: top;\n",
              "    }\n",
              "\n",
              "    .dataframe thead th {\n",
              "        text-align: right;\n",
              "    }\n",
              "</style>\n",
              "<table border=\"1\" class=\"dataframe\">\n",
              "  <thead>\n",
              "    <tr style=\"text-align: right;\">\n",
              "      <th></th>\n",
              "      <th>Age</th>\n",
              "      <th>Gender</th>\n",
              "      <th>Height</th>\n",
              "      <th>ICUType</th>\n",
              "      <th>BUN</th>\n",
              "      <th>Creatinine</th>\n",
              "      <th>GCS</th>\n",
              "      <th>Glucose</th>\n",
              "      <th>HCO3</th>\n",
              "      <th>HCT</th>\n",
              "      <th>...</th>\n",
              "      <th>Albumin</th>\n",
              "      <th>ALP</th>\n",
              "      <th>ALT</th>\n",
              "      <th>AST</th>\n",
              "      <th>Bilirubin</th>\n",
              "      <th>Lactate</th>\n",
              "      <th>Cholesterol</th>\n",
              "      <th>TroponinI</th>\n",
              "      <th>TroponinT</th>\n",
              "      <th>hospital_death</th>\n",
              "    </tr>\n",
              "  </thead>\n",
              "  <tbody>\n",
              "    <tr>\n",
              "      <th>0</th>\n",
              "      <td>54.0</td>\n",
              "      <td>0.0</td>\n",
              "      <td>NaN</td>\n",
              "      <td>4.0</td>\n",
              "      <td>[13.0, 8.0]</td>\n",
              "      <td>[0.8, 0.7]</td>\n",
              "      <td>[15.0, 15.0, 15.0, 15.0, 15.0, 15.0, 15.0, 15....</td>\n",
              "      <td>[205.0, 115.0]</td>\n",
              "      <td>[26.0, 28.0]</td>\n",
              "      <td>[33.7, 33.5, 30.3]</td>\n",
              "      <td>...</td>\n",
              "      <td>NaN</td>\n",
              "      <td>NaN</td>\n",
              "      <td>NaN</td>\n",
              "      <td>NaN</td>\n",
              "      <td>NaN</td>\n",
              "      <td>NaN</td>\n",
              "      <td>NaN</td>\n",
              "      <td>NaN</td>\n",
              "      <td>NaN</td>\n",
              "      <td>0</td>\n",
              "    </tr>\n",
              "  </tbody>\n",
              "</table>\n",
              "<p>1 rows × 41 columns</p>\n",
              "</div>\n",
              "      <button class=\"colab-df-convert\" onclick=\"convertToInteractive('df-f837ff6e-4833-4416-8a63-4e76c59982e0')\"\n",
              "              title=\"Convert this dataframe to an interactive table.\"\n",
              "              style=\"display:none;\">\n",
              "        \n",
              "  <svg xmlns=\"http://www.w3.org/2000/svg\" height=\"24px\"viewBox=\"0 0 24 24\"\n",
              "       width=\"24px\">\n",
              "    <path d=\"M0 0h24v24H0V0z\" fill=\"none\"/>\n",
              "    <path d=\"M18.56 5.44l.94 2.06.94-2.06 2.06-.94-2.06-.94-.94-2.06-.94 2.06-2.06.94zm-11 1L8.5 8.5l.94-2.06 2.06-.94-2.06-.94L8.5 2.5l-.94 2.06-2.06.94zm10 10l.94 2.06.94-2.06 2.06-.94-2.06-.94-.94-2.06-.94 2.06-2.06.94z\"/><path d=\"M17.41 7.96l-1.37-1.37c-.4-.4-.92-.59-1.43-.59-.52 0-1.04.2-1.43.59L10.3 9.45l-7.72 7.72c-.78.78-.78 2.05 0 2.83L4 21.41c.39.39.9.59 1.41.59.51 0 1.02-.2 1.41-.59l7.78-7.78 2.81-2.81c.8-.78.8-2.07 0-2.86zM5.41 20L4 18.59l7.72-7.72 1.47 1.35L5.41 20z\"/>\n",
              "  </svg>\n",
              "      </button>\n",
              "      \n",
              "  <style>\n",
              "    .colab-df-container {\n",
              "      display:flex;\n",
              "      flex-wrap:wrap;\n",
              "      gap: 12px;\n",
              "    }\n",
              "\n",
              "    .colab-df-convert {\n",
              "      background-color: #E8F0FE;\n",
              "      border: none;\n",
              "      border-radius: 50%;\n",
              "      cursor: pointer;\n",
              "      display: none;\n",
              "      fill: #1967D2;\n",
              "      height: 32px;\n",
              "      padding: 0 0 0 0;\n",
              "      width: 32px;\n",
              "    }\n",
              "\n",
              "    .colab-df-convert:hover {\n",
              "      background-color: #E2EBFA;\n",
              "      box-shadow: 0px 1px 2px rgba(60, 64, 67, 0.3), 0px 1px 3px 1px rgba(60, 64, 67, 0.15);\n",
              "      fill: #174EA6;\n",
              "    }\n",
              "\n",
              "    [theme=dark] .colab-df-convert {\n",
              "      background-color: #3B4455;\n",
              "      fill: #D2E3FC;\n",
              "    }\n",
              "\n",
              "    [theme=dark] .colab-df-convert:hover {\n",
              "      background-color: #434B5C;\n",
              "      box-shadow: 0px 1px 3px 1px rgba(0, 0, 0, 0.15);\n",
              "      filter: drop-shadow(0px 1px 2px rgba(0, 0, 0, 0.3));\n",
              "      fill: #FFFFFF;\n",
              "    }\n",
              "  </style>\n",
              "\n",
              "      <script>\n",
              "        const buttonEl =\n",
              "          document.querySelector('#df-f837ff6e-4833-4416-8a63-4e76c59982e0 button.colab-df-convert');\n",
              "        buttonEl.style.display =\n",
              "          google.colab.kernel.accessAllowed ? 'block' : 'none';\n",
              "\n",
              "        async function convertToInteractive(key) {\n",
              "          const element = document.querySelector('#df-f837ff6e-4833-4416-8a63-4e76c59982e0');\n",
              "          const dataTable =\n",
              "            await google.colab.kernel.invokeFunction('convertToInteractive',\n",
              "                                                     [key], {});\n",
              "          if (!dataTable) return;\n",
              "\n",
              "          const docLinkHtml = 'Like what you see? Visit the ' +\n",
              "            '<a target=\"_blank\" href=https://colab.research.google.com/notebooks/data_table.ipynb>data table notebook</a>'\n",
              "            + ' to learn more about interactive tables.';\n",
              "          element.innerHTML = '';\n",
              "          dataTable['output_type'] = 'display_data';\n",
              "          await google.colab.output.renderOutput(dataTable, element);\n",
              "          const docLink = document.createElement('div');\n",
              "          docLink.innerHTML = docLinkHtml;\n",
              "          element.appendChild(docLink);\n",
              "        }\n",
              "      </script>\n",
              "    </div>\n",
              "  </div>\n",
              "  "
            ]
          },
          "metadata": {},
          "execution_count": 8
        }
      ],
      "source": [
        "pd_data.head(1)"
      ]
    },
    {
      "cell_type": "markdown",
      "metadata": {
        "id": "JoAbEBnVnq8_"
      },
      "source": [
        "Uno de los pasos más importantes, antes de la construcción de cualquier modelo, es explorar nuestros datos. Esto consiste en conocer sus distribuciones, analizar si existen datos faltantes, identificar datos capturados de manera errónea, si se usaron las mismas escalas de medición, entre otros."
      ]
    },
    {
      "cell_type": "code",
      "execution_count": null,
      "metadata": {
        "colab": {
          "base_uri": "https://localhost:8080/",
          "height": 312
        },
        "id": "EfVbm3IZnq9A",
        "outputId": "cb772330-e979-466e-d03e-87d56c8de389"
      },
      "outputs": [
        {
          "output_type": "execute_result",
          "data": {
            "text/plain": [
              "Text(0, 0.5, 'Número de pacientes')"
            ]
          },
          "metadata": {},
          "execution_count": 9
        },
        {
          "output_type": "display_data",
          "data": {
            "text/plain": [
              "<Figure size 432x288 with 1 Axes>"
            ],
            "image/png": "[encoded data removed]"
          },
          "metadata": {
            "needs_background": "light"
          }
        }
      ],
      "source": [
        "#Visualizamos los datos!\n",
        "plt.title('Distribución de la variable dependiente')\n",
        "sns.countplot(x=\"hospital_death\", data=pd_data)\n",
        "plt.xlabel('Mortalidad hospitalaria')\n",
        "plt.ylabel('Número de pacientes')"
      ]
    },
    {
      "cell_type": "code",
      "execution_count": null,
      "metadata": {
        "colab": {
          "base_uri": "https://localhost:8080/"
        },
        "id": "0aK6sE7hnq9D",
        "outputId": "c13c04ca-7114-4456-8655-e91453727749"
      },
      "outputs": [
        {
          "output_type": "stream",
          "name": "stdout",
          "text": [
            "0    6878\n",
            "1    1122\n",
            "Name: hospital_death, dtype: int64\n"
          ]
        }
      ],
      "source": [
        "print(pd_data['hospital_death'].value_counts()) #Explorando el total de registros (0:death, 1:survived)"
      ]
    },
    {
      "cell_type": "code",
      "execution_count": null,
      "metadata": {
        "id": "MyIyW8bOnq9G",
        "colab": {
          "base_uri": "https://localhost:8080/",
          "height": 312
        },
        "outputId": "80377d4f-d7a3-4ef6-8459-ae2cdfddccbc"
      },
      "outputs": [
        {
          "output_type": "execute_result",
          "data": {
            "text/plain": [
              "Text(0, 0.5, 'Frecuencia')"
            ]
          },
          "metadata": {},
          "execution_count": 11
        },
        {
          "output_type": "display_data",
          "data": {
            "text/plain": [
              "<Figure size 432x288 with 1 Axes>"
            ],
            "image/png": "[encoded data removed]"
          },
          "metadata": {
            "needs_background": "light"
          }
        }
      ],
      "source": [
        "plt.title(\"Distribución de las edades en los pacientes\")\n",
        "plt.hist(pd_data['Age'], bins = 30)\n",
        "plt.xlabel('Edad')\n",
        "plt.ylabel('Frecuencia')"
      ]
    },
    {
      "cell_type": "code",
      "execution_count": null,
      "metadata": {
        "id": "rakLpRFJnq9I",
        "colab": {
          "base_uri": "https://localhost:8080/",
          "height": 312
        },
        "outputId": "c873bc0f-f057-4767-e1df-621e4eb27097"
      },
      "outputs": [
        {
          "output_type": "execute_result",
          "data": {
            "text/plain": [
              "Text(0, 0.5, 'Frecuencia')"
            ]
          },
          "metadata": {},
          "execution_count": 12
        },
        {
          "output_type": "display_data",
          "data": {
            "text/plain": [
              "<Figure size 432x288 with 1 Axes>"
            ],
            "image/png": "[encoded data removed]"
          },
          "metadata": {
            "needs_background": "light"
          }
        }
      ],
      "source": [
        "sns.countplot(x=\"Gender\", data=pd_data) #0: femenino, 1: masculino\n",
        "plt.title('Distribución de la variable género')\n",
        "plt.xlabel('Sexo')\n",
        "plt.ylabel('Frecuencia')"
      ]
    },
    {
      "cell_type": "code",
      "execution_count": null,
      "metadata": {
        "id": "claiuYLGnq9L",
        "colab": {
          "base_uri": "https://localhost:8080/",
          "height": 312
        },
        "outputId": "a5cf2c38-920f-46ba-f84e-a2c4261e8cd8"
      },
      "outputs": [
        {
          "output_type": "execute_result",
          "data": {
            "text/plain": [
              "Text(0, 0.5, 'Frecuencia')"
            ]
          },
          "metadata": {},
          "execution_count": 13
        },
        {
          "output_type": "display_data",
          "data": {
            "text/plain": [
              "<Figure size 432x288 with 1 Axes>"
            ],
            "image/png": "[encoded data removed]"
          },
          "metadata": {
            "needs_background": "light"
          }
        }
      ],
      "source": [
        "plt.title(\"Distribución de las alturas en los pacientes\")\n",
        "plt.hist(pd_data['Height'], bins = 50)\n",
        "plt.xlabel('Altura')\n",
        "plt.ylabel('Frecuencia')"
      ]
    },
    {
      "cell_type": "markdown",
      "source": [
        "### Analizando la tasa de ausencia por variable clínica"
      ],
      "metadata": {
        "id": "4cN1LKvLutDK"
      }
    },
    {
      "cell_type": "code",
      "execution_count": null,
      "metadata": {
        "id": "dwO-nKLlnq9V"
      },
      "outputs": [],
      "source": [
        "missing_values_count = pd_data.isnull().sum() #isnull detecta valores ausentes en los registros\n",
        "dict = {}\n",
        "dict = missing_values_count"
      ]
    },
    {
      "cell_type": "code",
      "execution_count": null,
      "metadata": {
        "colab": {
          "base_uri": "https://localhost:8080/",
          "height": 299
        },
        "id": "Xcs440Snnq9X",
        "outputId": "a18c9088-abf1-4b6b-8e93-ca1b2b1e0853"
      },
      "outputs": [
        {
          "output_type": "execute_result",
          "data": {
            "text/plain": [
              "<BarContainer object of 21 artists>"
            ]
          },
          "metadata": {},
          "execution_count": 15
        },
        {
          "output_type": "display_data",
          "data": {
            "text/plain": [
              "<Figure size 1584x288 with 1 Axes>"
            ],
            "image/png": "[encoded data removed]"
          },
          "metadata": {
            "needs_background": "light"
          }
        }
      ],
      "source": [
        "list = sorted(dict.items(), key = lambda x : x[1])\n",
        "vars_menos_ausentes = list[:21]\n",
        "\n",
        "plt.figure(figsize=(22,4))\n",
        "plt.title(\"Variables con menos datos ausentes\")\n",
        "x, y = zip(*vars_menos_ausentes)\n",
        "plt.bar(x, y)"
      ]
    },
    {
      "cell_type": "code",
      "execution_count": null,
      "metadata": {
        "colab": {
          "base_uri": "https://localhost:8080/",
          "height": 298
        },
        "id": "KXUdWCjfnq9a",
        "outputId": "eefa4783-6dfd-4c0d-e875-fac0b0c15ff5"
      },
      "outputs": [
        {
          "output_type": "execute_result",
          "data": {
            "text/plain": [
              "<BarContainer object of 20 artists>"
            ]
          },
          "metadata": {},
          "execution_count": 16
        },
        {
          "output_type": "display_data",
          "data": {
            "text/plain": [
              "<Figure size 1512x288 with 1 Axes>"
            ],
            "image/png": "[encoded data removed]"
          },
          "metadata": {
            "needs_background": "light"
          }
        }
      ],
      "source": [
        "list = sorted(dict.items(), key = lambda x : x[1])\n",
        "vars_mas_ausentes = list[21:]\n",
        "\n",
        "plt.figure(figsize=(21,4))\n",
        "plt.title(\"Variables con más datos ausentes\")\n",
        "x, y = zip(*vars_mas_ausentes)\n",
        "plt.bar(x, y)"
      ]
    },
    {
      "cell_type": "markdown",
      "metadata": {
        "id": "fVB0-jyrnq9e"
      },
      "source": [
        "#### Hallazgos en el análisis de datos:\n",
        "\n",
        "- De las 42 variables disponibles, las variables con la mayor tasa de ausencia son RespRate,TroponinT, Cholesterol y Troponin I\n",
        "    - ¿Qué debemos hacer: mantener todas las variables o descartar aquellas con tasa de ausencia muy alta?\n",
        "- En relación a la distribución de la población, tenemos que 6,878 (85.97%) pacientes sobrevivieron después de estar en una ICU, mientras que 1,122 (14.02%) pacientes no sobrevivieron.\n",
        "    - Si construimos un modelo con esta distribución ¿creen que el modelo tendrá un buen rendimiento para predecir mortalidad?\n",
        "- Se observó que hay diferentes escalas de medición entre las características. Por ejemplo, la edad está dada en años, mientras que el ritmo cardiaco (HR) está dado en bpm (latidos por minuto). Esta diferencia de escalas puede generar que se de más importancia a algunas variables frente a otras. \n",
        "    - Por tal motivo, escalaremos los datos, es decir, unificaremos la escala para todas las características, de manera que no influya algunas características en relación a otras.\n",
        "- Se observó errores al momento de la captura de los datos, por ejemplo, existen casos que se registró: 1.8 para referirse a 180cm o casos que se registró: 81.8 inch para referirse a 180cm"
      ]
    },
    {
      "cell_type": "markdown",
      "metadata": {
        "id": "xZ4EK_t0nq9e"
      },
      "source": [
        "### Extracción de series de tiempo\n",
        "El rendimiento de los modelos dependen en gran medida de la calidad de los datos. Para cada una de las variables dinámicas se extraen sus respectivas series de tiempo."
      ]
    },
    {
      "cell_type": "code",
      "source": [
        "from google.colab import drive\n",
        "drive.mount('/content/drive')"
      ],
      "metadata": {
        "colab": {
          "base_uri": "https://localhost:8080/"
        },
        "id": "32NqbvNxUto5",
        "outputId": "072b7d99-069f-4684-eeed-f0cfa0c474f4"
      },
      "execution_count": null,
      "outputs": [
        {
          "output_type": "stream",
          "name": "stdout",
          "text": [
            "Drive already mounted at /content/drive; to attempt to forcibly remount, call drive.mount(\"/content/drive\", force_remount=True).\n"
          ]
        }
      ]
    },
    {
      "cell_type": "code",
      "execution_count": null,
      "metadata": {
        "id": "8IjSP0pOnq9f"
      },
      "outputs": [],
      "source": [
        "variables_dinamicas = ['BUN','Creatinine','HCT','HR','GCS','Temp','Platelets','HCO3','Na','WBC','K','Mg','Glucose']\n",
        "columns = ['Pid','BUN','Creatinine','HCT','HR','GCS','Temp','Platelets','HCO3','Na','WBC','K','Mg','Glucose']\n",
        "\n",
        "def extraccion_label(id):\n",
        "    return outcomes[id][5]\n",
        "\n",
        "def extraccion_demo(id,data):\n",
        "    \"\"\" Función para extraer datos demográficos de los pacientes \"\"\"\n",
        "    pre_features = {}\n",
        "    vars_estaticas_less = ['Age', 'ICUType', 'Gender','Height']\n",
        "\n",
        "    pre_features = {'Pid':id,'Mortality':extraccion_label(id)} #añadimos la etiqueta\n",
        "\n",
        "    for name in vars_estaticas_less:\n",
        "        valor = float(data[name][0][1])\n",
        "        if valor < 0: #si en las variables estáticas, el valor no fue registrado, entonces colocamos NAN\n",
        "            pre_features[name] = np.nan\n",
        "        elif name == \"Age\" and valor > 90:#Para ajustar el rango de edades\n",
        "            pre_features[name] = 91.4 #aquellas edades mayores a 90, las reemplazamos a 91.4 (HIPAA)\n",
        "        elif name == \"Height\" and valor < 10:\n",
        "            pre_features[name] = valor * 100 #existen casos que se registró: 1.8 para referirse a 180cm\n",
        "        elif name == \"Height\" and valor < 25:\n",
        "            pre_features[name] = valor * 10 #existen casos que se registró: 18 para referirse a 180cm\n",
        "        elif name == \"Height\" and valor < 100:\n",
        "            pre_features[name] = valor * 2.2 #existen casos que se registró: 81.8 inch para referirse a 180cm\n",
        "        elif name == \"Height\" and valor > 1000:\n",
        "            pre_features[name] = valor * 0.1 #existen casos que se registró: 1800 para referirse a 180cm\n",
        "        elif name == \"Height\" and valor > 250:\n",
        "            pre_features[name] = valor * 0.3937 #existen casos que se registró: 400 para referirse a 157cm\n",
        "        else:\n",
        "            pre_features[name] = float(data[name][0][1])\n",
        "    return pre_features\n",
        "\n",
        "def extraccion_series_tiempo(id,data):\n",
        "    \"\"\" Función para extraer las series de tiempo por paciente\"\"\"\n",
        "    df = pd.DataFrame(columns=columns) #dataframe para guardar las series\n",
        "\n",
        "    # --- Extracción de datos demográficos ---\n",
        "    demo = extraccion_demo(id,data)\n",
        "    demo = pd.DataFrame(demo,index=[0])\n",
        "\n",
        "    for parameter in variables_dinamicas: #'Temp': [('00:21', '36.3'), ('03:36', '36.4')],\n",
        "        if parameter in data: \n",
        "          hora = [d[0] for d in data[parameter]]\n",
        "          ehr = [float(d[1]) for d in data[parameter]]\n",
        "          if not ehr:\n",
        "            temporales = pd.DataFrame({'Pid':id,parameter:np.nan},index=[0])\n",
        "          else:\n",
        "            for pos in range(len(hora)):\n",
        "              temporales = pd.DataFrame({'Pid':id,parameter:ehr[pos]},index=[str(hora[pos])])\n",
        "              df = pd.concat([df, temporales], axis=0) #concatenando valores, mantiene nans\n",
        "\n",
        "    df[\"Pid\"] = pd.to_numeric(df[\"Pid\"]) #convertir columna de 'object'--> numeric\n",
        "    df.reset_index(inplace=True)\n",
        "    out = df.groupby(by=['index','Pid'], dropna=False).sum(min_count=1) #mantiene los NAN values\n",
        "    out.reset_index(inplace=True)\n",
        "    out.rename(columns={'index':'offset'},inplace=True) #renombramos la columna como offset\n",
        "    return out, demo\n",
        "\n",
        "def preprocessing(data_icu):\n",
        "    df_series_tiempo = pd.DataFrame(columns=['Pid','time','BUN','Creatinine','HCT','HR','GCS','Temp','Platelets','HCO3','Na','WBC','K','Mg','Glucose'])\n",
        "    df_demo = pd.DataFrame(columns=['Pid','Mortality','Age','ICUType','Gender','Height'])\n",
        "\n",
        "    pat = 0\n",
        "    for id, data in data_icu.items(): # retorna una copia del diccionario\n",
        "        series,demo = extraccion_series_tiempo(id,data)\n",
        "        series = agrupar_features_per_hour(id,series) #promediar las mediciones por hora\n",
        "\n",
        "        if series.shape[0] == 48: #Añadir pacientes que 48 mediciones (1 medición por hora)     \n",
        "          df_demo = pd.concat([df_demo, demo], axis=0) #concatenando demo\n",
        "          df_series_tiempo = pd.concat([df_series_tiempo, series], axis=0) #concatenando series\n",
        "\n",
        "        # ----Only for testing ----#\n",
        "        #if pat > 2:\n",
        "          #break\n",
        "        #else:\n",
        "          #pat +=1\n",
        "        #----------------------#\n",
        "\n",
        "    df_series_tiempo.sort_values(by=['Pid','time'],inplace=True)\n",
        "    return df_series_tiempo, df_demo\n",
        "\n",
        "def agrupar_features_per_hour(id,serie_tiempo):\n",
        "    \"\"\" ---Agrupando series de tiempo --- \"\"\" \n",
        "    serie_tiempo['time'] = [x + ':00' for x in serie_tiempo['offset']]\n",
        "    serie_tiempo['time'] = pd.to_timedelta(serie_tiempo['time'])\n",
        "    serie_tiempo = serie_tiempo.set_index('time')\n",
        "    serie_tiempo = serie_tiempo.resample('H').mean() #Por hora, se promedian los valores por cada variable\n",
        "    serie_tiempo['Pid'] = id\n",
        "    serie_tiempo.reset_index(inplace=True)\n",
        "    return serie_tiempo\n",
        "\n",
        "df_series_tiempo,df_demo = preprocessing(data_icu)\n",
        "\n",
        "#Renombrar columnas\n",
        "df_demo.rename(columns={'Mortality':'Mortalidad','Age':'Edad','ICUType':'TipoICU','Gender':'Sexo','Height':'Altura'}, inplace=True)"
      ]
    },
    {
      "cell_type": "code",
      "source": [
        "print(\"Tamaño de las series de tiempo:\", df_series_tiempo.shape)\n",
        "print(\"Tamaño de los datos demográficos:\", df_demo.shape)"
      ],
      "metadata": {
        "id": "uQUYcS8FCxRq",
        "colab": {
          "base_uri": "https://localhost:8080/"
        },
        "outputId": "adeac33a-65d7-4845-b96a-00826e787077"
      },
      "execution_count": null,
      "outputs": [
        {
          "output_type": "stream",
          "name": "stdout",
          "text": [
            "Tamaño de las series de tiempo: (165600, 15)\n",
            "Tamaño de los datos demográficos: (3450, 6)\n"
          ]
        }
      ]
    },
    {
      "cell_type": "code",
      "source": [
        "df_series_tiempo.to_csv(\"/content/drive/MyDrive/Colab Notebooks/Taller_NLPWebminar/data/df_series_tiempo_webminar.csv\")\n",
        "df_demo.to_csv(\"/content/drive/MyDrive/Colab Notebooks/Taller_NLPWebminar/data/df_demo_webinar.csv\")"
      ],
      "metadata": {
        "id": "1IGvdcctX6eO"
      },
      "execution_count": null,
      "outputs": []
    }
  ],
  "metadata": {
    "colab": {
      "collapsed_sections": [],
      "name": "extraccion_series_tiempo.ipynb",
      "provenance": [],
      "include_colab_link": true
    },
    "kernelspec": {
      "display_name": "Python 3",
      "language": "python",
      "name": "python3"
    },
    "language_info": {
      "codemirror_mode": {
        "name": "ipython",
        "version": 3
      },
      "file_extension": ".py",
      "mimetype": "text/x-python",
      "name": "python",
      "nbconvert_exporter": "python",
      "pygments_lexer": "ipython3",
      "version": "3.7.4"
    }
  },
  "nbformat": 4,
  "nbformat_minor": 0
}